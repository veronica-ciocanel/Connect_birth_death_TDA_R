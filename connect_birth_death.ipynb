{
 "cells": [
  {
   "cell_type": "code",
   "execution_count": 1,
   "metadata": {},
   "outputs": [
    {
     "name": "stdout",
     "output_type": "stream",
     "text": [
      "Wall time: 3.38 s\n"
     ]
    }
   ],
   "source": [
    "%%time\n",
    "import numpy as np\n",
    "import pandas as pd\n",
    "import timeit\n",
    "import matplotlib.pyplot as plt\n",
    "import seaborn as sns # for plotting\n",
    "sns.set(color_codes=True) \n",
    "from scipy.spatial import distance_matrix\n",
    "from ripser import ripser\n",
    "from persim import plot_diagrams\n",
    "\n",
    "start_time_all = timeit.default_timer()\n",
    "\n",
    "samp_bead_density = 0.1\n",
    "L        = 2000 # range of the domain for points in the data set\n",
    "maxBetti = 1;\n",
    "\n",
    "# Load the data\n",
    "filenamex = \"bead_dataxv_samp{}.csv\".format(samp_bead_density)\n",
    "filenamey = \"bead_datayv_samp{}.csv\".format(samp_bead_density)\n",
    "filenamez = \"bead_datazv_samp{}.csv\".format(samp_bead_density)\n",
    "\n",
    "allx = pd.read_csv(filenamex,header = None) \n",
    "ally = pd.read_csv(filenamey,header = None) \n",
    "allz = pd.read_csv(filenamez,header = None) \n",
    "\n",
    "nr_times = allx.shape[1]"
   ]
  },
  {
   "cell_type": "code",
   "execution_count": 2,
   "metadata": {},
   "outputs": [],
   "source": [
    "# Functions\n",
    "def m_births_deaths(time):  \n",
    "    matx = allx[time] \n",
    "    maty = ally[time]\n",
    "    matz = allz[time]\n",
    "\n",
    "    # Combine coordinates into a matrix and calculate the persistence diagram of the Rips filtration built on top of the point cloud.\n",
    "    data = pd.concat([matx,maty,matz], axis=1, sort=False)\n",
    "    data = data.dropna()\n",
    "    diagrams = ripser(data,maxdim=maxBetti,thresh=L)['dgms']\n",
    "    m_birth_death = pd.DataFrame(diagrams[maxBetti])\n",
    "    m_birth = m_birth_death[0]\n",
    "    m_death = m_birth_death[1]\n",
    "    return m_birth_death\n",
    "    #plot_diagrams(diagrams, show=True)\n",
    "\n",
    "def connection_btwn_two(ptsA,ptsB,cont_diff):  \n",
    "    # Making matrix with distance between all the points in each time step\n",
    "    num_ptsA = len(ptsA.index)\n",
    "    num_ptsB = len(ptsB.index)\n",
    "    distance_mat = distance_matrix(ptsA.values,ptsB.values)\n",
    "  \n",
    "    # Finding the closest points\n",
    "    pairs_mat = []   \n",
    "    \n",
    "    # If there are no points in either time step\n",
    "    if distance_mat.shape[1] == 0:\n",
    "        for i in range(0,num_ptsA):\n",
    "            pair = (i,np.nan)\n",
    "            pairs_mat.append(pair)\n",
    "        pairs_mat = np.asarray(pairs_mat)\n",
    "        return(pairs_mat)\n",
    "    elif distance_mat.shape[0] == 0:\n",
    "        for j in range(0,num_ptsB):\n",
    "            pair = (np.nan,j)\n",
    "            pairs_mat.append(pair)  \n",
    "        pairs_mat = np.asarray(pairs_mat)\n",
    "        return(pairs_mat)\n",
    "    \n",
    "    if num_ptsA < num_ptsB:\n",
    "        for i in range(0,num_ptsA):\n",
    "            min_dist = np.nanmin(distance_mat[i,:])\n",
    "            if min_dist < cont_diff:\n",
    "                closest_B = np.nanargmin(distance_mat[i,:])\n",
    "                distance_mat[i,:] = np.nan\n",
    "                distance_mat[:,closest_B] = np.nan\n",
    "                pair = (i,closest_B)\n",
    "                pairs_mat.append(pair)\n",
    "            else:\n",
    "                distance_mat[i,:] = np.nan\n",
    "                pair = (i,np.nan)\n",
    "                pairs_mat.append(pair)\n",
    "        pairs_mat = np.asarray(pairs_mat)\n",
    "    \n",
    "        for j in range(0,num_ptsB):\n",
    "            if j not in pairs_mat[:,1]:\n",
    "                pair = (np.nan,j)\n",
    "                pairs_mat = np.vstack([pairs_mat,pair])                \n",
    "    else: #if num_ptsA >= num_ptsB:\n",
    "        for j in range(0,num_ptsB):\n",
    "            min_dist = np.nanmin(distance_mat[:,j])\n",
    "            if min_dist < cont_diff:\n",
    "                closest_A = np.nanargmin(distance_mat[:,j])\n",
    "                distance_mat[:,j] = np.nan\n",
    "                distance_mat[closest_A,:] = np.nan\n",
    "                pair = (closest_A,j)\n",
    "                pairs_mat.append(pair)\n",
    "            else:\n",
    "                distance_mat[:,j] = np.nan\n",
    "                pair = (np.nan,j)\n",
    "                pairs_mat.append(pair)\n",
    "        pairs_mat = np.asarray(pairs_mat)\n",
    "     \n",
    "        if num_ptsA>num_ptsB:\n",
    "            for i in range(0,num_ptsA):\n",
    "                if i not in pairs_mat[:,0]:\n",
    "                    pair = (i,np.nan)\n",
    "                    pairs_mat = np.vstack([pairs_mat,pair])\n",
    "\n",
    "    return(pairs_mat)\n",
    "\n",
    "def nanvalue(c,triangle_pts,index):\n",
    "    if np.isnan(c):\n",
    "        x = np.nan\n",
    "    else:\n",
    "        x = triangle_pts[index][c] \n",
    "    return x"
   ]
  },
  {
   "cell_type": "code",
   "execution_count": 3,
   "metadata": {},
   "outputs": [
    {
     "name": "stdout",
     "output_type": "stream",
     "text": [
      "Wall time: 4.85 s\n"
     ]
    }
   ],
   "source": [
    "%%time\n",
    "# Calculate persistence diagram pairs for each time\n",
    "list_bd = []\n",
    "for time in range(0,201):\n",
    "    m_birth_death = m_births_deaths(time)\n",
    "    list_bd.append(m_birth_death)"
   ]
  },
  {
   "cell_type": "code",
   "execution_count": 4,
   "metadata": {},
   "outputs": [
    {
     "name": "stdout",
     "output_type": "stream",
     "text": [
      "Wall time: 6 ms\n"
     ]
    }
   ],
   "source": [
    "%%time\n",
    "## Get birth-death points for first time step \n",
    "triangle_pointsA = list_bd[0]\n",
    "## Get birth-death points for second time step \n",
    "triangle_pointsB = list_bd[1]\n",
    "cont_diff = 370 # Continuity difference, maximum distance we should still attach two triangles\n",
    "\n",
    "## Set up connection matrices for the first two steps\n",
    "ab = connection_btwn_two(triangle_pointsA,triangle_pointsB,cont_diff)\n",
    "l_mat = ab\n",
    "x_pairs = []\n",
    "y_pairs = []\n",
    "for k in range(0,len(ab)): \n",
    "    cA = ab[k,0]\n",
    "    cB = ab[k,1]\n",
    "    x_pair = (nanvalue(cA,triangle_pointsA,0),nanvalue(cB,triangle_pointsB,0)) #x_pair = (triangle_pointsA[0][cA],triangle_pointsB[0][cB])\n",
    "    y_pair = (nanvalue(cA,triangle_pointsA,1),nanvalue(cB,triangle_pointsB,1)) #y_pair = (triangle_pointsA[1][cA],triangle_pointsB[1][cB])\n",
    "    x_pairs.append(x_pair)\n",
    "    y_pairs.append(y_pair) \n",
    "all_x_conn = np.asarray(x_pairs)\n",
    "all_y_conn = np.asarray(y_pairs)"
   ]
  },
  {
   "cell_type": "code",
   "execution_count": 5,
   "metadata": {},
   "outputs": [
    {
     "name": "stdout",
     "output_type": "stream",
     "text": [
      "Wall time: 958 ms\n"
     ]
    }
   ],
   "source": [
    "%%time\n",
    "# Connect all remaining steps through time\n",
    "for time in range(1,200):  \n",
    "     \n",
    "    # Get birth-death points for first time step \n",
    "    triangle_pointsB = list_bd[time]    \n",
    "    # Get birth-death points for second time step \n",
    "    triangle_pointsC = list_bd[time+1]\n",
    "\n",
    "    # Connections to be added\n",
    "    bc = connection_btwn_two(triangle_pointsB,triangle_pointsC,cont_diff) \n",
    "\n",
    "    # Sets up matrix for connections, indirectly handles death of orphans\n",
    "    n_emp_row = np.empty((len(l_mat),1))\n",
    "    n_emp_row[:] = np.nan\n",
    "    l_mat = np.hstack((l_mat,n_emp_row))\n",
    "    all_x_conn = np.hstack((all_x_conn,n_emp_row))\n",
    "    all_y_conn = np.hstack((all_y_conn,n_emp_row))\n",
    "    \n",
    "    for p in range(0,len(bc)):\n",
    "        cB = bc[p,0]\n",
    "        cC = bc[p,1]\n",
    "        \n",
    "        ptBx = nanvalue(cB,triangle_pointsB,0)\n",
    "        ptBy = nanvalue(cB,triangle_pointsB,1)\n",
    "        ptCx = nanvalue(cC,triangle_pointsC,0)\n",
    "        ptCy = nanvalue(cC,triangle_pointsC,1)\n",
    "        \n",
    "        if ~np.isnan(bc[p,0]):  # Matches up all pairs\n",
    "            if bc[p,0] in l_mat[:,l_mat.shape[1]-2]:\n",
    "                pos = np.where(l_mat[:,l_mat.shape[1]-2]==bc[p,0]) # returns a tuple\n",
    "                l_mat[int(pos[0]),l_mat.shape[1]-1] = bc[p,1] # transform to one value (rather than array) and integer\n",
    "                all_x_conn[int(pos[0]),all_x_conn.shape[1]-1] = ptCx\n",
    "                all_y_conn[int(pos[0]),all_x_conn.shape[1]-1] = ptCy\n",
    "                \n",
    "            else:  # Handles birth of orphans\n",
    "                orphan_birth    = np.empty((1,l_mat.shape[1]))\n",
    "                orphan_birth[:] = np.nan\n",
    "                orphan_birth[0,l_mat.shape[1]-1] = bc[p,1]\n",
    "                l_mat           = np.vstack((l_mat,orphan_birth))\n",
    "                \n",
    "                orphan_birth_x    = np.empty((1,all_x_conn.shape[1]))\n",
    "                orphan_birth_x[:] = np.nan\n",
    "                orphan_birth_x[0,all_x_conn.shape[1]-1] = ptCx\n",
    "                all_x_conn        = np.vstack((all_x_conn,orphan_birth_x))\n",
    "                \n",
    "                orphan_birth_y    = np.empty((1,all_y_conn.shape[1]))\n",
    "                orphan_birth_y[:] = np.nan\n",
    "                orphan_birth_y[0,all_y_conn.shape[1]-1] = ptCy\n",
    "                all_y_conn        = np.vstack((all_y_conn,orphan_birth_y)) "
   ]
  },
  {
   "cell_type": "code",
   "execution_count": 6,
   "metadata": {},
   "outputs": [
    {
     "name": "stdout",
     "output_type": "stream",
     "text": [
      "Wall time: 292 ms\n"
     ]
    }
   ],
   "source": [
    "%%time\n",
    "# Determine significant path\n",
    "max_dist_vec  = np.empty((1,l_mat.shape[1])); max_dist_vec[:]=np.nan\n",
    "sig_index_vec = np.empty((1,l_mat.shape[1])); sig_index_vec[:]=np.nan\n",
    "\n",
    "for col in range(0,l_mat.shape[1]):  \n",
    "    dist_vec1  = np.empty((1,l_mat.shape[0])); dist_vec1[:]=np.nan\n",
    "    for i in range(0,l_mat.shape[0]):\n",
    "        if ~np.isnan(l_mat[i,col]):\n",
    "            dist_vec1[0,i] = all_y_conn[i,col] - all_x_conn[i,col]\n",
    "    \n",
    "    if np.sum(~np.isnan(dist_vec1)) == 0:\n",
    "        max_dist_vec[0,col]  = np.nan \n",
    "        sig_index_vec[0,col] = np.nan\n",
    "    else:\n",
    "        max_dist_vec[0,col]  = np.nanmax(dist_vec1) \n",
    "        sig_index_vec[0,col] = np.nanargmax(dist_vec1)            \n",
    "\n",
    "max_dist = np.nanmax(max_dist_vec)\n",
    "max_ind = np.nanargmax(max_dist_vec)\n",
    "sig_path_index = sig_index_vec[0,max_ind]"
   ]
  },
  {
   "cell_type": "code",
   "execution_count": 7,
   "metadata": {},
   "outputs": [
    {
     "name": "stderr",
     "output_type": "stream",
     "text": [
      "C:\\Users\\veron\\Anaconda3\\envs\\mlearn\\lib\\site-packages\\ipykernel_launcher.py:7: RuntimeWarning: invalid value encountered in less\n",
      "  import sys\n"
     ]
    }
   ],
   "source": [
    "# Variables for distance versus time visualization\n",
    "gt = 301.1 # Significance threshold\n",
    "path_num = int(sig_path_index)\n",
    "all_sig_pts_dist = all_y_conn[path_num,:]-all_x_conn[path_num,:]\n",
    "all_sig_times = [10*x for x in range(0,len(all_x_conn[path_num,:]))]\n",
    "all_diffs = all_sig_pts_dist - gt\n",
    "last_neg_diff = np.max(np.where(all_diffs<0))\n",
    "first_sig_time_index = 10*(last_neg_diff + 1)"
   ]
  },
  {
   "cell_type": "code",
   "execution_count": 8,
   "metadata": {},
   "outputs": [],
   "source": [
    "# Plotting functions\n",
    "def rbw_plot(all_x_conn,all_y_conn):\n",
    "    plt.style.use('ggplot')\n",
    "    #Plot the paths\n",
    "    for path_num in range(0,all_x_conn.shape[0]):\n",
    "        plt.plot(all_x_conn[path_num,:],all_y_conn[path_num,:])\n",
    "    plt.plot(range(0,2000),range(0,2000),'k-')\n",
    "    plt.xlabel('Birth')\n",
    "    plt.ylabel('Death')\n",
    "    plt.xlim(0,2000)\n",
    "    plt.ylim(0,2000)\n",
    "    plt.gca().set_aspect('equal', adjustable='box')\n",
    "\n",
    "def sig_path_plot(all_x_conn,all_y_conn,sig_path):\n",
    "    plt.style.use('ggplot')\n",
    "    plt.plot(all_x_conn[sig_path,:],all_y_conn[sig_path,:],'b')\n",
    "    plt.plot(range(0,2000),range(0,2000),'k-')\n",
    "    plt.xlabel('Birth')\n",
    "    plt.ylabel('Death')\n",
    "    plt.xlim(0,2000)\n",
    "    plt.ylim(0,2000)\n",
    "    plt.gca().set_aspect('equal', adjustable='box')\n",
    "    \n",
    "def dvt_plot(all_sig_times,all_sig_pts_dist,gt,first_sig_time_index):\n",
    "    plt.style.use('ggplot')  \n",
    "    plt.scatter(all_sig_times,all_sig_pts_dist,c='b')\n",
    "    plt.plot(range(0,2000),gt*np.ones(2000),'k--')\n",
    "    plt.plot(first_sig_time_index*np.ones(1500),range(0,1500),'k--')\n",
    "    plt.xlabel('Time')\n",
    "    plt.ylabel('Significant feature persistence')\n",
    "    plt.xlim(0,2000)\n",
    "    plt.ylim(0,1500)\n",
    "    plt.gca().set_aspect('equal', adjustable='box')\n",
    "    \n",
    "def rbw_sig_dvt_subplot(all_x_conn,all_y_conn,sig_path):\n",
    "    plt.style.use('ggplot')\n",
    "    fig, (ax1, ax2, ax3) = plt.subplots(1,3)\n",
    "    plt.rcParams['figure.figsize'] = [20,12]\n",
    "    plt.subplots_adjust(wspace=0.6)\n",
    "    #Plot the paths\n",
    "    for path_num in range(0,all_x_conn.shape[0]):\n",
    "        ax1.plot(all_x_conn[path_num,:],all_y_conn[path_num,:])\n",
    "    ax1.plot(range(0,2000),range(0,2000),'k-')\n",
    "    ax1.set(xlabel='Birth', ylabel='Death')\n",
    "    ax1.set_xlim([0,2000])\n",
    "    ax1.set_ylim([0,2000])\n",
    "    ax1.set_aspect('equal', adjustable='box')\n",
    "    #Plot the significant path\n",
    "    ax2.plot(all_x_conn[sig_path,:],all_y_conn[sig_path,:],'b')\n",
    "    ax2.plot(range(0,2000),range(0,2000),'k-')\n",
    "    ax2.set(xlabel='Birth', ylabel='Death')\n",
    "    ax2.set_xlim([0,2000])\n",
    "    ax2.set_ylim([0,2000])\n",
    "    ax2.set_aspect('equal', adjustable='box')\n",
    "    # Plot distance versus time \n",
    "    ax3.scatter(all_sig_times,all_sig_pts_dist,c='b')\n",
    "    ax3.plot(range(0,2000),gt*np.ones(2000),'k--')\n",
    "    ax3.plot(first_sig_time_index*np.ones(1500),range(0,1500),'k--')\n",
    "    ax3.set(xlabel='Time', ylabel='Significant feature persistence')\n",
    "    ax3.set_xlim([0,2000])\n",
    "    ax3.set_ylim([0,1500])\n",
    "    ax3.set_aspect('equal', adjustable='box')"
   ]
  },
  {
   "cell_type": "code",
   "execution_count": 11,
   "metadata": {},
   "outputs": [
    {
     "data": {
      "image/png": "[encoded data removed]",
      "text/plain": [
       "<Figure size 1440x864 with 3 Axes>"
      ]
     },
     "metadata": {},
     "output_type": "display_data"
    }
   ],
   "source": [
    "## Plotting - run this cell twice to see full-size figures\n",
    "#rbw_plot(all_x_conn,all_y_conn)\n",
    "#sig_path_plot(all_x_conn,all_y_conn,int(sig_path_index[0]))\n",
    "#dvt_plot(all_sig_times,all_sig_pts_dist,gt,first_sig_time_index)\n",
    "rbw_sig_dvt_subplot(all_x_conn,all_y_conn,path_num)"
   ]
  },
  {
   "cell_type": "code",
   "execution_count": 10,
   "metadata": {},
   "outputs": [
    {
     "data": {
      "text/plain": [
       "8.0828049"
      ]
     },
     "execution_count": 10,
     "metadata": {},
     "output_type": "execute_result"
    }
   ],
   "source": [
    "elapsed_all = timeit.default_timer() - start_time_all \n",
    "elapsed_all"
   ]
  },
  {
   "cell_type": "code",
   "execution_count": null,
   "metadata": {},
   "outputs": [],
   "source": []
  }
 ],
 "metadata": {
  "kernelspec": {
   "display_name": "Python 3",
   "language": "python",
   "name": "python3"
  },
  "language_info": {
   "codemirror_mode": {
    "name": "ipython",
    "version": 3
   },
   "file_extension": ".py",
   "mimetype": "text/x-python",
   "name": "python",
   "nbconvert_exporter": "python",
   "pygments_lexer": "ipython3",
   "version": "3.6.5"
  }
 },
 "nbformat": 4,
 "nbformat_minor": 2
}
